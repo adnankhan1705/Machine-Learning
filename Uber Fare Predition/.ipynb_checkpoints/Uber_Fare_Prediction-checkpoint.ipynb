{
 "cells": [
  {
   "cell_type": "markdown",
   "metadata": {
    "_uuid": "ea234e3b39e30f36ac966f6118c4783e6f5b8a6d"
   },
   "source": [
    "train.csv - Input features and target fare_amount values for the training set (about 55M rows).\n",
    "test.csv - Input features for the test set (about 10K rows). Your goal is to predict fare_amount for each row."
   ]
  },
  {
   "cell_type": "code",
   "execution_count": 1,
   "metadata": {
    "_cell_guid": "b1076dfc-b9ad-4769-8c92-a6c4dae69d19",
    "_uuid": "8f2839f25d086af736a60e9eeb907d3b93b6e0e5"
   },
   "outputs": [],
   "source": [
    "import numpy as np # linear algebra\n",
    "import pandas as pd # data processing, CSV file I/O (e.g. pd.read_csv)"
   ]
  },
  {
   "cell_type": "code",
   "execution_count": 2,
   "metadata": {
    "_cell_guid": "79c7e3d0-c299-4dcb-8224-4455121ee9b0",
    "_uuid": "d629ff2d2480ee46fbb7e2d37f6b5fab8052498a"
   },
   "outputs": [
    {
     "name": "stdout",
     "output_type": "stream",
     "text": [
      "(200, 8)\n",
      "Index(['key', 'fare_amount', 'pickup_datetime', 'pickup_longitude',\n",
      "       'pickup_latitude', 'dropoff_longitude', 'dropoff_latitude',\n",
      "       'passenger_count'],\n",
      "      dtype='object')\n",
      "(9914, 7)\n",
      "Index(['key', 'pickup_datetime', 'pickup_longitude', 'pickup_latitude',\n",
      "       'dropoff_longitude', 'dropoff_latitude', 'passenger_count'],\n",
      "      dtype='object')\n"
     ]
    }
   ],
   "source": [
    "train_df=pd.read_csv(r\"train.csv\",nrows=200)\n",
    "test_df=pd.read_csv(r\"test.csv\")\n",
    "print (train_df.shape)\n",
    "print (train_df.columns)\n",
    "print (test_df.shape)\n",
    "print (test_df.columns)"
   ]
  },
  {
   "cell_type": "code",
   "execution_count": 3,
   "metadata": {
    "_uuid": "d147fe1dd2f231d845f76b37b0793c2852519dc1"
   },
   "outputs": [
    {
     "name": "stdout",
     "output_type": "stream",
     "text": [
      "<class 'pandas.core.frame.DataFrame'>\n",
      "RangeIndex: 200000 entries, 0 to 199999\n",
      "Data columns (total 8 columns):\n",
      "key                  200000 non-null object\n",
      "fare_amount          200000 non-null float64\n",
      "pickup_datetime      200000 non-null object\n",
      "pickup_longitude     200000 non-null float64\n",
      "pickup_latitude      200000 non-null float64\n",
      "dropoff_longitude    199999 non-null float64\n",
      "dropoff_latitude     199999 non-null float64\n",
      "passenger_count      200000 non-null int64\n",
      "dtypes: float64(5), int64(1), object(2)\n",
      "memory usage: 12.2+ MB\n"
     ]
    }
   ],
   "source": [
    "train_df.info()"
   ]
  },
  {
   "cell_type": "markdown",
   "metadata": {
    "_uuid": "41c1eca0811894cbfcd8dde24c6ab8eb9f9dace2"
   },
   "source": [
    "#here we can see there are 8columns in which 6 numerics and 2 are object.\n",
    "#Lets change the type of pickup_datetime from object to DateTime"
   ]
  },
  {
   "cell_type": "code",
   "execution_count": 4,
   "metadata": {
    "_uuid": "6d7cbf505a73faf920e99e9fbbdd7cd397ff47d6"
   },
   "outputs": [],
   "source": [
    "train_df[\"pickup_datetime\"]=pd.to_datetime(train_df['pickup_datetime'])"
   ]
  },
  {
   "cell_type": "code",
   "execution_count": 5,
   "metadata": {
    "_uuid": "a022f20581765594cde0cf0b0261d7564e22be8d"
   },
   "outputs": [
    {
     "data": {
      "text/html": [
       "<div>\n",
       "<style scoped>\n",
       "    .dataframe tbody tr th:only-of-type {\n",
       "        vertical-align: middle;\n",
       "    }\n",
       "\n",
       "    .dataframe tbody tr th {\n",
       "        vertical-align: top;\n",
       "    }\n",
       "\n",
       "    .dataframe thead th {\n",
       "        text-align: right;\n",
       "    }\n",
       "</style>\n",
       "<table border=\"1\" class=\"dataframe\">\n",
       "  <thead>\n",
       "    <tr style=\"text-align: right;\">\n",
       "      <th></th>\n",
       "      <th>key</th>\n",
       "      <th>fare_amount</th>\n",
       "      <th>pickup_datetime</th>\n",
       "      <th>pickup_longitude</th>\n",
       "      <th>pickup_latitude</th>\n",
       "      <th>dropoff_longitude</th>\n",
       "      <th>dropoff_latitude</th>\n",
       "      <th>passenger_count</th>\n",
       "    </tr>\n",
       "  </thead>\n",
       "  <tbody>\n",
       "    <tr>\n",
       "      <th>0</th>\n",
       "      <td>2009-06-15 17:26:21.0000001</td>\n",
       "      <td>4.5</td>\n",
       "      <td>2009-06-15 17:26:21</td>\n",
       "      <td>-73.844311</td>\n",
       "      <td>40.721319</td>\n",
       "      <td>-73.841610</td>\n",
       "      <td>40.712278</td>\n",
       "      <td>1</td>\n",
       "    </tr>\n",
       "    <tr>\n",
       "      <th>1</th>\n",
       "      <td>2010-01-05 16:52:16.0000002</td>\n",
       "      <td>16.9</td>\n",
       "      <td>2010-01-05 16:52:16</td>\n",
       "      <td>-74.016048</td>\n",
       "      <td>40.711303</td>\n",
       "      <td>-73.979268</td>\n",
       "      <td>40.782004</td>\n",
       "      <td>1</td>\n",
       "    </tr>\n",
       "    <tr>\n",
       "      <th>2</th>\n",
       "      <td>2011-08-18 00:35:00.00000049</td>\n",
       "      <td>5.7</td>\n",
       "      <td>2011-08-18 00:35:00</td>\n",
       "      <td>-73.982738</td>\n",
       "      <td>40.761270</td>\n",
       "      <td>-73.991242</td>\n",
       "      <td>40.750562</td>\n",
       "      <td>2</td>\n",
       "    </tr>\n",
       "    <tr>\n",
       "      <th>3</th>\n",
       "      <td>2012-04-21 04:30:42.0000001</td>\n",
       "      <td>7.7</td>\n",
       "      <td>2012-04-21 04:30:42</td>\n",
       "      <td>-73.987130</td>\n",
       "      <td>40.733143</td>\n",
       "      <td>-73.991567</td>\n",
       "      <td>40.758092</td>\n",
       "      <td>1</td>\n",
       "    </tr>\n",
       "    <tr>\n",
       "      <th>4</th>\n",
       "      <td>2010-03-09 07:51:00.000000135</td>\n",
       "      <td>5.3</td>\n",
       "      <td>2010-03-09 07:51:00</td>\n",
       "      <td>-73.968095</td>\n",
       "      <td>40.768008</td>\n",
       "      <td>-73.956655</td>\n",
       "      <td>40.783762</td>\n",
       "      <td>1</td>\n",
       "    </tr>\n",
       "  </tbody>\n",
       "</table>\n",
       "</div>"
      ],
      "text/plain": [
       "                             key  fare_amount     pickup_datetime  \\\n",
       "0    2009-06-15 17:26:21.0000001          4.5 2009-06-15 17:26:21   \n",
       "1    2010-01-05 16:52:16.0000002         16.9 2010-01-05 16:52:16   \n",
       "2   2011-08-18 00:35:00.00000049          5.7 2011-08-18 00:35:00   \n",
       "3    2012-04-21 04:30:42.0000001          7.7 2012-04-21 04:30:42   \n",
       "4  2010-03-09 07:51:00.000000135          5.3 2010-03-09 07:51:00   \n",
       "\n",
       "   pickup_longitude  pickup_latitude  dropoff_longitude  dropoff_latitude  \\\n",
       "0        -73.844311        40.721319         -73.841610         40.712278   \n",
       "1        -74.016048        40.711303         -73.979268         40.782004   \n",
       "2        -73.982738        40.761270         -73.991242         40.750562   \n",
       "3        -73.987130        40.733143         -73.991567         40.758092   \n",
       "4        -73.968095        40.768008         -73.956655         40.783762   \n",
       "\n",
       "   passenger_count  \n",
       "0                1  \n",
       "1                1  \n",
       "2                2  \n",
       "3                1  \n",
       "4                1  "
      ]
     },
     "execution_count": 5,
     "metadata": {},
     "output_type": "execute_result"
    }
   ],
   "source": [
    "train_df.head()"
   ]
  },
  {
   "cell_type": "markdown",
   "metadata": {
    "_uuid": "aa97117cb6693883d8b71c162e0b58ac58d12093"
   },
   "source": [
    "#As this is Taxi fare data and we know there are many factors which affect the price of taxi like \n",
    "1. Travelled distance\n",
    "2. Time of Travel\n",
    "3. Demand and Availability of Taxi\n",
    "4. Some special places are more costlier like Airport or other places where there might be toll"
   ]
  },
  {
   "cell_type": "code",
   "execution_count": 6,
   "metadata": {
    "_uuid": "75b3f903001aa633668543770eec62870b8b9e95"
   },
   "outputs": [],
   "source": [
    "#Lets see the statisitics of our data"
   ]
  },
  {
   "cell_type": "code",
   "execution_count": 7,
   "metadata": {
    "_uuid": "169c05b171c6f7d7b05af2cab69a6fc3ae0dce93"
   },
   "outputs": [
    {
     "data": {
      "text/html": [
       "<div>\n",
       "<style scoped>\n",
       "    .dataframe tbody tr th:only-of-type {\n",
       "        vertical-align: middle;\n",
       "    }\n",
       "\n",
       "    .dataframe tbody tr th {\n",
       "        vertical-align: top;\n",
       "    }\n",
       "\n",
       "    .dataframe thead th {\n",
       "        text-align: right;\n",
       "    }\n",
       "</style>\n",
       "<table border=\"1\" class=\"dataframe\">\n",
       "  <thead>\n",
       "    <tr style=\"text-align: right;\">\n",
       "      <th></th>\n",
       "      <th>fare_amount</th>\n",
       "      <th>pickup_longitude</th>\n",
       "      <th>pickup_latitude</th>\n",
       "      <th>dropoff_longitude</th>\n",
       "      <th>dropoff_latitude</th>\n",
       "      <th>passenger_count</th>\n",
       "    </tr>\n",
       "  </thead>\n",
       "  <tbody>\n",
       "    <tr>\n",
       "      <th>count</th>\n",
       "      <td>200000.000000</td>\n",
       "      <td>200000.000000</td>\n",
       "      <td>200000.000000</td>\n",
       "      <td>199999.000000</td>\n",
       "      <td>199999.000000</td>\n",
       "      <td>200000.000000</td>\n",
       "    </tr>\n",
       "    <tr>\n",
       "      <th>mean</th>\n",
       "      <td>11.342877</td>\n",
       "      <td>-72.506121</td>\n",
       "      <td>39.922326</td>\n",
       "      <td>-72.518673</td>\n",
       "      <td>39.925579</td>\n",
       "      <td>1.682445</td>\n",
       "    </tr>\n",
       "    <tr>\n",
       "      <th>std</th>\n",
       "      <td>9.837855</td>\n",
       "      <td>11.608097</td>\n",
       "      <td>10.048947</td>\n",
       "      <td>10.724226</td>\n",
       "      <td>6.751120</td>\n",
       "      <td>1.306730</td>\n",
       "    </tr>\n",
       "    <tr>\n",
       "      <th>min</th>\n",
       "      <td>-44.900000</td>\n",
       "      <td>-736.550000</td>\n",
       "      <td>-3116.285383</td>\n",
       "      <td>-1251.195890</td>\n",
       "      <td>-1189.615440</td>\n",
       "      <td>0.000000</td>\n",
       "    </tr>\n",
       "    <tr>\n",
       "      <th>25%</th>\n",
       "      <td>6.000000</td>\n",
       "      <td>-73.992050</td>\n",
       "      <td>40.735007</td>\n",
       "      <td>-73.991295</td>\n",
       "      <td>40.734092</td>\n",
       "      <td>1.000000</td>\n",
       "    </tr>\n",
       "    <tr>\n",
       "      <th>50%</th>\n",
       "      <td>8.500000</td>\n",
       "      <td>-73.981743</td>\n",
       "      <td>40.752761</td>\n",
       "      <td>-73.980072</td>\n",
       "      <td>40.753225</td>\n",
       "      <td>1.000000</td>\n",
       "    </tr>\n",
       "    <tr>\n",
       "      <th>75%</th>\n",
       "      <td>12.500000</td>\n",
       "      <td>-73.967068</td>\n",
       "      <td>40.767127</td>\n",
       "      <td>-73.963508</td>\n",
       "      <td>40.768070</td>\n",
       "      <td>2.000000</td>\n",
       "    </tr>\n",
       "    <tr>\n",
       "      <th>max</th>\n",
       "      <td>500.000000</td>\n",
       "      <td>2140.601160</td>\n",
       "      <td>1703.092772</td>\n",
       "      <td>40.851027</td>\n",
       "      <td>404.616667</td>\n",
       "      <td>6.000000</td>\n",
       "    </tr>\n",
       "  </tbody>\n",
       "</table>\n",
       "</div>"
      ],
      "text/plain": [
       "         fare_amount  pickup_longitude  pickup_latitude  dropoff_longitude  \\\n",
       "count  200000.000000     200000.000000    200000.000000      199999.000000   \n",
       "mean       11.342877        -72.506121        39.922326         -72.518673   \n",
       "std         9.837855         11.608097        10.048947          10.724226   \n",
       "min       -44.900000       -736.550000     -3116.285383       -1251.195890   \n",
       "25%         6.000000        -73.992050        40.735007         -73.991295   \n",
       "50%         8.500000        -73.981743        40.752761         -73.980072   \n",
       "75%        12.500000        -73.967068        40.767127         -73.963508   \n",
       "max       500.000000       2140.601160      1703.092772          40.851027   \n",
       "\n",
       "       dropoff_latitude  passenger_count  \n",
       "count     199999.000000    200000.000000  \n",
       "mean          39.925579         1.682445  \n",
       "std            6.751120         1.306730  \n",
       "min        -1189.615440         0.000000  \n",
       "25%           40.734092         1.000000  \n",
       "50%           40.753225         1.000000  \n",
       "75%           40.768070         2.000000  \n",
       "max          404.616667         6.000000  "
      ]
     },
     "execution_count": 7,
     "metadata": {},
     "output_type": "execute_result"
    }
   ],
   "source": [
    "train_df.describe()"
   ]
  },
  {
   "cell_type": "markdown",
   "metadata": {
    "_uuid": "b4c3758e2433a9eb6f85e8cf019cfec1f9b59447"
   },
   "source": [
    "#Here first thing which we can see is minimum value of fare is negative which is -62 which is not the valid value, so we need to remove the fare which are negative values.\n",
    "#Secondly, passenger_count minimum value is 0 and maximum value is 208 which impossible, so we need to remove them as well, for safer side we can think that a taxi can have maximum 7 people."
   ]
  },
  {
   "cell_type": "code",
   "execution_count": 8,
   "metadata": {
    "_uuid": "2c02effe0f2f19750e9d3cea43ad38cb3f6c4a8d"
   },
   "outputs": [
    {
     "data": {
      "text/plain": [
       "key                  0\n",
       "fare_amount          0\n",
       "pickup_datetime      0\n",
       "pickup_longitude     0\n",
       "pickup_latitude      0\n",
       "dropoff_longitude    1\n",
       "dropoff_latitude     1\n",
       "passenger_count      0\n",
       "dtype: int64"
      ]
     },
     "execution_count": 8,
     "metadata": {},
     "output_type": "execute_result"
    }
   ],
   "source": [
    "#Lets check if there is any null value\n",
    "train_df.isnull().sum()"
   ]
  },
  {
   "cell_type": "markdown",
   "metadata": {
    "_uuid": "91c5643a2c46842e8f3ccf212abe8fab7d4d6a6d"
   },
   "source": [
    "#Here we can see there are 14 null values in drop_off latitude and longitude. as removing 14 to 28 rows from our huge dataset will not affect our analysis so, lets remove the rows having null values \n"
   ]
  },
  {
   "cell_type": "code",
   "execution_count": 9,
   "metadata": {
    "_uuid": "7d3692414ee4abbebceb95847f1c52c3a6e349f1"
   },
   "outputs": [
    {
     "name": "stdout",
     "output_type": "stream",
     "text": [
      "key                  0\n",
      "fare_amount          0\n",
      "pickup_datetime      0\n",
      "pickup_longitude     0\n",
      "pickup_latitude      0\n",
      "dropoff_longitude    0\n",
      "dropoff_latitude     0\n",
      "passenger_count      0\n",
      "dtype: int64\n"
     ]
    }
   ],
   "source": [
    "train_df.dropna(inplace=True)\n",
    "print(train_df.isnull().sum())"
   ]
  },
  {
   "cell_type": "code",
   "execution_count": 10,
   "metadata": {
    "_uuid": "fadf2d0a278dff500227c74ab3bce290e89a0d89"
   },
   "outputs": [],
   "source": [
    "import matplotlib.pyplot as plt\n",
    "import seaborn as sns\n",
    "%matplotlib inline"
   ]
  },
  {
   "cell_type": "code",
   "execution_count": 11,
   "metadata": {
    "_uuid": "cfd7bf0b1bb15d21b3c6e522bfcaff70f8faeb7a"
   },
   "outputs": [
    {
     "data": {
      "text/plain": [
       "<matplotlib.axes._subplots.AxesSubplot at 0x2de7a8087b8>"
      ]
     },
     "execution_count": 11,
     "metadata": {},
     "output_type": "execute_result"
    },
    {
     "data": {
      "image/png": "[encoded data removed]",
      "text/plain": [
       "<matplotlib.figure.Figure at 0x2de762c1dd8>"
      ]
     },
     "metadata": {
      "needs_background": "light"
     },
     "output_type": "display_data"
    }
   ],
   "source": [
    "sns.distplot(train_df['fare_amount'])"
   ]
  },
  {
   "cell_type": "markdown",
   "metadata": {
    "_uuid": "f144e2c0536648ea616077113187a9155f0fac48"
   },
   "source": [
    "#In distribution plot also it can be seen that there are some values which are negative fare"
   ]
  },
  {
   "cell_type": "code",
   "execution_count": 12,
   "metadata": {
    "_uuid": "9f420aa3eabe67dec8c13a8b7e2a90ceb3c2e916"
   },
   "outputs": [
    {
     "data": {
      "text/plain": [
       "<matplotlib.axes._subplots.AxesSubplot at 0x2de7a8d7630>"
      ]
     },
     "execution_count": 12,
     "metadata": {},
     "output_type": "execute_result"
    },
    {
     "data": {
      "image/png": "[encoded data removed]",
      "text/plain": [
       "<matplotlib.figure.Figure at 0x2de7a894588>"
      ]
     },
     "metadata": {
      "needs_background": "light"
     },
     "output_type": "display_data"
    }
   ],
   "source": [
    "sns.distplot(train_df['pickup_latitude'])"
   ]
  },
  {
   "cell_type": "markdown",
   "metadata": {
    "_uuid": "7cf318f7a82825b8e31676625ef2b34f2fedd579"
   },
   "source": [
    "#Here we can see minimum value is going to be less than even -3000 which is not correct value and also on positive side also going more than 2000"
   ]
  },
  {
   "cell_type": "code",
   "execution_count": 13,
   "metadata": {
    "_uuid": "943e184aa4ca6c6a118d7711c92dc7f7ebfb5165"
   },
   "outputs": [
    {
     "data": {
      "text/plain": [
       "<matplotlib.axes._subplots.AxesSubplot at 0x2de7aaad7b8>"
      ]
     },
     "execution_count": 13,
     "metadata": {},
     "output_type": "execute_result"
    },
    {
     "data": {
      "image/png": "[encoded data removed]",
      "text/plain": [
       "<matplotlib.figure.Figure at 0x2de7aa274a8>"
      ]
     },
     "metadata": {
      "needs_background": "light"
     },
     "output_type": "display_data"
    }
   ],
   "source": [
    "sns.distplot(train_df['pickup_longitude'])"
   ]
  },
  {
   "cell_type": "markdown",
   "metadata": {
    "_uuid": "a2329450bda50358804c314fdeaa099bbff3fdd4"
   },
   "source": [
    "#Here also negative and positive values are excedding far behond the real limit."
   ]
  },
  {
   "cell_type": "code",
   "execution_count": 14,
   "metadata": {
    "_uuid": "fce23b66ce464f8e7113dad259355eab641cabe7"
   },
   "outputs": [
    {
     "data": {
      "text/plain": [
       "<matplotlib.axes._subplots.AxesSubplot at 0x2de7ab654a8>"
      ]
     },
     "execution_count": 14,
     "metadata": {},
     "output_type": "execute_result"
    },
    {
     "data": {
      "image/png": "[encoded data removed]",
      "text/plain": [
       "<matplotlib.figure.Figure at 0x2de7a93c390>"
      ]
     },
     "metadata": {
      "needs_background": "light"
     },
     "output_type": "display_data"
    }
   ],
   "source": [
    "sns.distplot(train_df['dropoff_longitude'])"
   ]
  },
  {
   "cell_type": "code",
   "execution_count": 15,
   "metadata": {
    "_uuid": "900d79c9b1fd7bff0621dd56bea29f0ee2bdb6a9"
   },
   "outputs": [],
   "source": [
    "#Similarly here also same issue"
   ]
  },
  {
   "cell_type": "code",
   "execution_count": 16,
   "metadata": {
    "_uuid": "ad56795f0e0ef06a135e19afe1b30fdaf33e349c"
   },
   "outputs": [
    {
     "data": {
      "text/plain": [
       "<matplotlib.axes._subplots.AxesSubplot at 0x2de7ac0eb70>"
      ]
     },
     "execution_count": 16,
     "metadata": {},
     "output_type": "execute_result"
    },
    {
     "data": {
      "image/png": "[encoded data removed]",
      "text/plain": [
       "<matplotlib.figure.Figure at 0x2de7af15cc0>"
      ]
     },
     "metadata": {
      "needs_background": "light"
     },
     "output_type": "display_data"
    }
   ],
   "source": [
    "sns.distplot(train_df['dropoff_latitude'])"
   ]
  },
  {
   "cell_type": "code",
   "execution_count": 17,
   "metadata": {
    "_uuid": "a02b9a4cc2811da70979d08a565fb8ec9eb8439b"
   },
   "outputs": [],
   "source": [
    "#here also we have noisy data as given value of dropoff_latitude and longitude are excedding"
   ]
  },
  {
   "cell_type": "code",
   "execution_count": 18,
   "metadata": {
    "_uuid": "a7c7d2585d4f9e6afb66ace4d90e62eec779bfd5"
   },
   "outputs": [],
   "source": [
    "#lets look min and max value in test dataset of latitude and longitude"
   ]
  },
  {
   "cell_type": "code",
   "execution_count": 19,
   "metadata": {
    "_uuid": "fc320099ace3874f60de247e613b8bc1fc589ca5"
   },
   "outputs": [
    {
     "name": "stdout",
     "output_type": "stream",
     "text": [
      "drop_off latitude min value 40.568973\n",
      "drop_off latitude max value 41.696683\n",
      "drop_off longitude min value -74.263242\n",
      "drop_off longitude max value -72.990963\n",
      "pickup latitude min value 40.573143\n",
      "pickup latitude max value 41.709555\n",
      "pickup longitude min value -74.252193\n",
      "pickup longitude max value -72.986532\n"
     ]
    }
   ],
   "source": [
    "print(\"drop_off latitude min value\",test_df[\"dropoff_latitude\"].min())\n",
    "print(\"drop_off latitude max value\",test_df[\"dropoff_latitude\"].max())\n",
    "print(\"drop_off longitude min value\", test_df[\"dropoff_longitude\"].min())\n",
    "print(\"drop_off longitude max value\",test_df[\"dropoff_longitude\"].max())\n",
    "print(\"pickup latitude min value\",test_df[\"pickup_latitude\"].min())\n",
    "print(\"pickup latitude max value\",test_df[\"pickup_latitude\"].max())\n",
    "print(\"pickup longitude min value\",test_df[\"pickup_longitude\"].min())\n",
    "print(\"pickup longitude max value\",test_df[\"pickup_longitude\"].max())"
   ]
  },
  {
   "cell_type": "markdown",
   "metadata": {
    "_uuid": "0ea8a3155bfd6bb5c1f43281b843fa5739f26e57"
   },
   "source": [
    "#we can see what is range of latitude and longitude of our test dataset, lets keep the range same in our train set so that even noisy data is remove and we have only the values which belongs to new york"
   ]
  },
  {
   "cell_type": "code",
   "execution_count": 20,
   "metadata": {
    "_uuid": "035f9d6c57c377d4976ce525fc58065013d1dd3e"
   },
   "outputs": [],
   "source": [
    "min_longitude=-74.263242,\n",
    "min_latitude=40.573143,\n",
    "max_longitude=-72.986532, \n",
    "max_latitude=41.709555"
   ]
  },
  {
   "cell_type": "code",
   "execution_count": 21,
   "metadata": {
    "_uuid": "76b6cd872bafce33937935d52208d301b63a3acb"
   },
   "outputs": [],
   "source": [
    "#lets drop all the values which are not coming in above boundary, as those are noisy data"
   ]
  },
  {
   "cell_type": "code",
   "execution_count": 22,
   "metadata": {
    "_uuid": "ace948f6cdc60219fdd6b7aefacc46e9b761ac35"
   },
   "outputs": [
    {
     "name": "stdout",
     "output_type": "stream",
     "text": [
      "before droping (199999, 8)\n",
      "after droping (195771, 8)\n"
     ]
    }
   ],
   "source": [
    "tempdf=train_df[(train_df[\"dropoff_latitude\"]<min_latitude) | (train_df[\"pickup_latitude\"]<min_latitude) | (train_df[\"dropoff_longitude\"]<min_longitude) | (train_df[\"pickup_longitude\"]<min_longitude) | (train_df[\"dropoff_latitude\"]>max_latitude) | (train_df[\"pickup_latitude\"]>max_latitude) | (train_df[\"dropoff_longitude\"]>max_longitude) | (train_df[\"pickup_longitude\"]>max_longitude) ]\n",
    "print(\"before droping\",train_df.shape)\n",
    "train_df.drop(tempdf.index,inplace=True)\n",
    "print(\"after droping\",train_df.shape)"
   ]
  },
  {
   "cell_type": "code",
   "execution_count": 23,
   "metadata": {
    "_uuid": "5e4eba936559d548ad885db4977a1d40c2647ee1"
   },
   "outputs": [],
   "source": [
    "#lets remove all those rows where fare amount is negative"
   ]
  },
  {
   "cell_type": "code",
   "execution_count": 24,
   "metadata": {
    "_uuid": "6036f1eb730194573ba08a28a84f7336fa53c318"
   },
   "outputs": [
    {
     "name": "stdout",
     "output_type": "stream",
     "text": [
      "before droping (195771, 8)\n",
      "after droping (195755, 8)\n"
     ]
    }
   ],
   "source": [
    "print(\"before droping\", train_df.shape)\n",
    "train_df=train_df[train_df['fare_amount']>0]\n",
    "print(\"after droping\", train_df.shape)"
   ]
  },
  {
   "cell_type": "markdown",
   "metadata": {
    "_uuid": "8e1f3fd7710a17c6bc2819e7d2fdedf950ebd390"
   },
   "source": [
    "#On different day and time there would be different price like during eveing price would be more compare to afternoon, during christmas price would be different and similarly on weekends price would be different compare to week days. so lets create some extra features which will take care of all these things"
   ]
  },
  {
   "cell_type": "code",
   "execution_count": 25,
   "metadata": {
    "_uuid": "a9217f19845dae11e287a083b5de58e88262d88d"
   },
   "outputs": [],
   "source": [
    "import calendar\n",
    "train_df['day']=train_df['pickup_datetime'].apply(lambda x:x.day)\n",
    "train_df['hour']=train_df['pickup_datetime'].apply(lambda x:x.hour)\n",
    "train_df['weekday']=train_df['pickup_datetime'].apply(lambda x:calendar.day_name[x.weekday()])\n",
    "train_df['month']=train_df['pickup_datetime'].apply(lambda x:x.month)\n",
    "train_df['year']=train_df['pickup_datetime'].apply(lambda x:x.year)"
   ]
  },
  {
   "cell_type": "code",
   "execution_count": 26,
   "metadata": {
    "_uuid": "6b9853773bd33b4e6efbadee7e5e35644743b6ba"
   },
   "outputs": [
    {
     "data": {
      "text/html": [
       "<div>\n",
       "<style scoped>\n",
       "    .dataframe tbody tr th:only-of-type {\n",
       "        vertical-align: middle;\n",
       "    }\n",
       "\n",
       "    .dataframe tbody tr th {\n",
       "        vertical-align: top;\n",
       "    }\n",
       "\n",
       "    .dataframe thead th {\n",
       "        text-align: right;\n",
       "    }\n",
       "</style>\n",
       "<table border=\"1\" class=\"dataframe\">\n",
       "  <thead>\n",
       "    <tr style=\"text-align: right;\">\n",
       "      <th></th>\n",
       "      <th>key</th>\n",
       "      <th>fare_amount</th>\n",
       "      <th>pickup_datetime</th>\n",
       "      <th>pickup_longitude</th>\n",
       "      <th>pickup_latitude</th>\n",
       "      <th>dropoff_longitude</th>\n",
       "      <th>dropoff_latitude</th>\n",
       "      <th>passenger_count</th>\n",
       "      <th>day</th>\n",
       "      <th>hour</th>\n",
       "      <th>weekday</th>\n",
       "      <th>month</th>\n",
       "      <th>year</th>\n",
       "    </tr>\n",
       "  </thead>\n",
       "  <tbody>\n",
       "    <tr>\n",
       "      <th>0</th>\n",
       "      <td>2009-06-15 17:26:21.0000001</td>\n",
       "      <td>4.5</td>\n",
       "      <td>2009-06-15 17:26:21</td>\n",
       "      <td>-73.844311</td>\n",
       "      <td>40.721319</td>\n",
       "      <td>-73.841610</td>\n",
       "      <td>40.712278</td>\n",
       "      <td>1</td>\n",
       "      <td>15</td>\n",
       "      <td>17</td>\n",
       "      <td>Monday</td>\n",
       "      <td>6</td>\n",
       "      <td>2009</td>\n",
       "    </tr>\n",
       "    <tr>\n",
       "      <th>1</th>\n",
       "      <td>2010-01-05 16:52:16.0000002</td>\n",
       "      <td>16.9</td>\n",
       "      <td>2010-01-05 16:52:16</td>\n",
       "      <td>-74.016048</td>\n",
       "      <td>40.711303</td>\n",
       "      <td>-73.979268</td>\n",
       "      <td>40.782004</td>\n",
       "      <td>1</td>\n",
       "      <td>5</td>\n",
       "      <td>16</td>\n",
       "      <td>Tuesday</td>\n",
       "      <td>1</td>\n",
       "      <td>2010</td>\n",
       "    </tr>\n",
       "    <tr>\n",
       "      <th>2</th>\n",
       "      <td>2011-08-18 00:35:00.00000049</td>\n",
       "      <td>5.7</td>\n",
       "      <td>2011-08-18 00:35:00</td>\n",
       "      <td>-73.982738</td>\n",
       "      <td>40.761270</td>\n",
       "      <td>-73.991242</td>\n",
       "      <td>40.750562</td>\n",
       "      <td>2</td>\n",
       "      <td>18</td>\n",
       "      <td>0</td>\n",
       "      <td>Thursday</td>\n",
       "      <td>8</td>\n",
       "      <td>2011</td>\n",
       "    </tr>\n",
       "    <tr>\n",
       "      <th>3</th>\n",
       "      <td>2012-04-21 04:30:42.0000001</td>\n",
       "      <td>7.7</td>\n",
       "      <td>2012-04-21 04:30:42</td>\n",
       "      <td>-73.987130</td>\n",
       "      <td>40.733143</td>\n",
       "      <td>-73.991567</td>\n",
       "      <td>40.758092</td>\n",
       "      <td>1</td>\n",
       "      <td>21</td>\n",
       "      <td>4</td>\n",
       "      <td>Saturday</td>\n",
       "      <td>4</td>\n",
       "      <td>2012</td>\n",
       "    </tr>\n",
       "    <tr>\n",
       "      <th>4</th>\n",
       "      <td>2010-03-09 07:51:00.000000135</td>\n",
       "      <td>5.3</td>\n",
       "      <td>2010-03-09 07:51:00</td>\n",
       "      <td>-73.968095</td>\n",
       "      <td>40.768008</td>\n",
       "      <td>-73.956655</td>\n",
       "      <td>40.783762</td>\n",
       "      <td>1</td>\n",
       "      <td>9</td>\n",
       "      <td>7</td>\n",
       "      <td>Tuesday</td>\n",
       "      <td>3</td>\n",
       "      <td>2010</td>\n",
       "    </tr>\n",
       "  </tbody>\n",
       "</table>\n",
       "</div>"
      ],
      "text/plain": [
       "                             key  fare_amount     pickup_datetime  \\\n",
       "0    2009-06-15 17:26:21.0000001          4.5 2009-06-15 17:26:21   \n",
       "1    2010-01-05 16:52:16.0000002         16.9 2010-01-05 16:52:16   \n",
       "2   2011-08-18 00:35:00.00000049          5.7 2011-08-18 00:35:00   \n",
       "3    2012-04-21 04:30:42.0000001          7.7 2012-04-21 04:30:42   \n",
       "4  2010-03-09 07:51:00.000000135          5.3 2010-03-09 07:51:00   \n",
       "\n",
       "   pickup_longitude  pickup_latitude  dropoff_longitude  dropoff_latitude  \\\n",
       "0        -73.844311        40.721319         -73.841610         40.712278   \n",
       "1        -74.016048        40.711303         -73.979268         40.782004   \n",
       "2        -73.982738        40.761270         -73.991242         40.750562   \n",
       "3        -73.987130        40.733143         -73.991567         40.758092   \n",
       "4        -73.968095        40.768008         -73.956655         40.783762   \n",
       "\n",
       "   passenger_count  day  hour   weekday  month  year  \n",
       "0                1   15    17    Monday      6  2009  \n",
       "1                1    5    16   Tuesday      1  2010  \n",
       "2                2   18     0  Thursday      8  2011  \n",
       "3                1   21     4  Saturday      4  2012  \n",
       "4                1    9     7   Tuesday      3  2010  "
      ]
     },
     "execution_count": 26,
     "metadata": {},
     "output_type": "execute_result"
    }
   ],
   "source": [
    "train_df.head()"
   ]
  },
  {
   "cell_type": "code",
   "execution_count": 27,
   "metadata": {
    "_uuid": "be64496f730165df2ab61fddbab33bdeeb0ed3ec"
   },
   "outputs": [],
   "source": [
    "#here we can see that week are in monday , tuesday and so on. So we need convert them in numerical for"
   ]
  },
  {
   "cell_type": "code",
   "execution_count": 28,
   "metadata": {
    "_uuid": "f4a55781053332c5b9d4729adff19c427b6493b6"
   },
   "outputs": [],
   "source": [
    "train_df.weekday = train_df.weekday.map({'Sunday':0,'Monday':1,'Tuesday':2,'Wednesday':3,'Thursday':4,'Friday':5,'Saturday':6})"
   ]
  },
  {
   "cell_type": "code",
   "execution_count": 29,
   "metadata": {
    "_uuid": "9c9fcdb027e9d0429a87c427abe59605e7289f71"
   },
   "outputs": [
    {
     "name": "stdout",
     "output_type": "stream",
     "text": [
      "<class 'pandas.core.frame.DataFrame'>\n",
      "Int64Index: 195755 entries, 0 to 199999\n",
      "Data columns (total 13 columns):\n",
      "key                  195755 non-null object\n",
      "fare_amount          195755 non-null float64\n",
      "pickup_datetime      195755 non-null datetime64[ns]\n",
      "pickup_longitude     195755 non-null float64\n",
      "pickup_latitude      195755 non-null float64\n",
      "dropoff_longitude    195755 non-null float64\n",
      "dropoff_latitude     195755 non-null float64\n",
      "passenger_count      195755 non-null int64\n",
      "day                  195755 non-null int64\n",
      "hour                 195755 non-null int64\n",
      "weekday              195755 non-null int64\n",
      "month                195755 non-null int64\n",
      "year                 195755 non-null int64\n",
      "dtypes: datetime64[ns](1), float64(5), int64(6), object(1)\n",
      "memory usage: 20.9+ MB\n"
     ]
    }
   ],
   "source": [
    "train_df.info()"
   ]
  },
  {
   "cell_type": "code",
   "execution_count": 30,
   "metadata": {
    "_uuid": "0fd0206c52af2a3b18669051f24c739931b098ff"
   },
   "outputs": [],
   "source": [
    "# we will keep only those rows where number of passangers are less than or equal to 8"
   ]
  },
  {
   "cell_type": "code",
   "execution_count": 31,
   "metadata": {
    "_uuid": "2fe4f7192523051fe6f73e793c0eab8add86fc31"
   },
   "outputs": [],
   "source": [
    "train_df=train_df[train_df['passenger_count']<=8]"
   ]
  },
  {
   "cell_type": "code",
   "execution_count": 32,
   "metadata": {
    "_uuid": "d450e07d73bb613eb71525ce6516f37085259c41"
   },
   "outputs": [
    {
     "name": "stdout",
     "output_type": "stream",
     "text": [
      "<class 'pandas.core.frame.DataFrame'>\n",
      "Int64Index: 195755 entries, 0 to 199999\n",
      "Data columns (total 13 columns):\n",
      "key                  195755 non-null object\n",
      "fare_amount          195755 non-null float64\n",
      "pickup_datetime      195755 non-null datetime64[ns]\n",
      "pickup_longitude     195755 non-null float64\n",
      "pickup_latitude      195755 non-null float64\n",
      "dropoff_longitude    195755 non-null float64\n",
      "dropoff_latitude     195755 non-null float64\n",
      "passenger_count      195755 non-null int64\n",
      "day                  195755 non-null int64\n",
      "hour                 195755 non-null int64\n",
      "weekday              195755 non-null int64\n",
      "month                195755 non-null int64\n",
      "year                 195755 non-null int64\n",
      "dtypes: datetime64[ns](1), float64(5), int64(6), object(1)\n",
      "memory usage: 20.9+ MB\n"
     ]
    }
   ],
   "source": [
    "train_df.info()"
   ]
  },
  {
   "cell_type": "code",
   "execution_count": 33,
   "metadata": {
    "_uuid": "9f0f4e961d5ceb88e2d04521d24ff28fd063f65b"
   },
   "outputs": [],
   "source": [
    "#here key column and pickup_datetime columns are not needed as we have already created variables extracted from it"
   ]
  },
  {
   "cell_type": "code",
   "execution_count": 34,
   "metadata": {
    "_uuid": "b231f4da8c5d3e2fff0c8fe994671d78e2a13a2e"
   },
   "outputs": [],
   "source": [
    "train_df.drop([\"key\",\"pickup_datetime\"], axis=1, inplace=True)"
   ]
  },
  {
   "cell_type": "code",
   "execution_count": 35,
   "metadata": {
    "_uuid": "429c6a378bd88e95fd19f5900245f9b519796011"
   },
   "outputs": [
    {
     "name": "stdout",
     "output_type": "stream",
     "text": [
      "<class 'pandas.core.frame.DataFrame'>\n",
      "Int64Index: 195755 entries, 0 to 199999\n",
      "Data columns (total 11 columns):\n",
      "fare_amount          195755 non-null float64\n",
      "pickup_longitude     195755 non-null float64\n",
      "pickup_latitude      195755 non-null float64\n",
      "dropoff_longitude    195755 non-null float64\n",
      "dropoff_latitude     195755 non-null float64\n",
      "passenger_count      195755 non-null int64\n",
      "day                  195755 non-null int64\n",
      "hour                 195755 non-null int64\n",
      "weekday              195755 non-null int64\n",
      "month                195755 non-null int64\n",
      "year                 195755 non-null int64\n",
      "dtypes: float64(5), int64(6)\n",
      "memory usage: 17.9 MB\n"
     ]
    }
   ],
   "source": [
    "train_df.info()"
   ]
  },
  {
   "cell_type": "markdown",
   "metadata": {
    "_uuid": "7dba2675870dc96034d08a54d99da4ef127cca82"
   },
   "source": [
    "#lets divide the data set into train and validation test set"
   ]
  },
  {
   "cell_type": "code",
   "execution_count": 36,
   "metadata": {
    "_uuid": "e2742c65d2fbb1f52b816d81fb6043549798c012"
   },
   "outputs": [],
   "source": [
    "from sklearn.model_selection import train_test_split"
   ]
  },
  {
   "cell_type": "code",
   "execution_count": 37,
   "metadata": {
    "_uuid": "b40eb1a374ab2b7aeb1074c5d477c4d2f13c08d7"
   },
   "outputs": [],
   "source": [
    "x=train_df.drop(\"fare_amount\", axis=1)"
   ]
  },
  {
   "cell_type": "code",
   "execution_count": 38,
   "metadata": {
    "_uuid": "1556cbdc793d8ebe67337e719de18ec2e3c9e11a"
   },
   "outputs": [],
   "source": [
    "y=train_df['fare_amount']"
   ]
  },
  {
   "cell_type": "code",
   "execution_count": 39,
   "metadata": {
    "_uuid": "956622189426a434440a043488a6679b98225084"
   },
   "outputs": [],
   "source": [
    "x_train,x_test,y_train,y_test = train_test_split(x,y,test_size=0.2,random_state=101)"
   ]
  },
  {
   "cell_type": "code",
   "execution_count": 40,
   "metadata": {
    "_uuid": "287f82f49de60631bab9c4cc33a81f67987f7ce0"
   },
   "outputs": [
    {
     "data": {
      "text/html": [
       "<div>\n",
       "<style scoped>\n",
       "    .dataframe tbody tr th:only-of-type {\n",
       "        vertical-align: middle;\n",
       "    }\n",
       "\n",
       "    .dataframe tbody tr th {\n",
       "        vertical-align: top;\n",
       "    }\n",
       "\n",
       "    .dataframe thead th {\n",
       "        text-align: right;\n",
       "    }\n",
       "</style>\n",
       "<table border=\"1\" class=\"dataframe\">\n",
       "  <thead>\n",
       "    <tr style=\"text-align: right;\">\n",
       "      <th></th>\n",
       "      <th>pickup_longitude</th>\n",
       "      <th>pickup_latitude</th>\n",
       "      <th>dropoff_longitude</th>\n",
       "      <th>dropoff_latitude</th>\n",
       "      <th>passenger_count</th>\n",
       "      <th>day</th>\n",
       "      <th>hour</th>\n",
       "      <th>weekday</th>\n",
       "      <th>month</th>\n",
       "      <th>year</th>\n",
       "    </tr>\n",
       "  </thead>\n",
       "  <tbody>\n",
       "    <tr>\n",
       "      <th>131647</th>\n",
       "      <td>-73.997383</td>\n",
       "      <td>40.729007</td>\n",
       "      <td>-73.988172</td>\n",
       "      <td>40.737558</td>\n",
       "      <td>1</td>\n",
       "      <td>6</td>\n",
       "      <td>9</td>\n",
       "      <td>2</td>\n",
       "      <td>10</td>\n",
       "      <td>2009</td>\n",
       "    </tr>\n",
       "    <tr>\n",
       "      <th>60720</th>\n",
       "      <td>-73.985420</td>\n",
       "      <td>40.723583</td>\n",
       "      <td>-73.973198</td>\n",
       "      <td>40.762245</td>\n",
       "      <td>1</td>\n",
       "      <td>28</td>\n",
       "      <td>5</td>\n",
       "      <td>4</td>\n",
       "      <td>5</td>\n",
       "      <td>2015</td>\n",
       "    </tr>\n",
       "    <tr>\n",
       "      <th>52670</th>\n",
       "      <td>-73.969533</td>\n",
       "      <td>40.760567</td>\n",
       "      <td>-73.977077</td>\n",
       "      <td>40.747083</td>\n",
       "      <td>5</td>\n",
       "      <td>8</td>\n",
       "      <td>14</td>\n",
       "      <td>4</td>\n",
       "      <td>3</td>\n",
       "      <td>2012</td>\n",
       "    </tr>\n",
       "    <tr>\n",
       "      <th>69493</th>\n",
       "      <td>-73.973292</td>\n",
       "      <td>40.784818</td>\n",
       "      <td>-73.959017</td>\n",
       "      <td>40.783357</td>\n",
       "      <td>1</td>\n",
       "      <td>19</td>\n",
       "      <td>8</td>\n",
       "      <td>6</td>\n",
       "      <td>5</td>\n",
       "      <td>2012</td>\n",
       "    </tr>\n",
       "    <tr>\n",
       "      <th>6514</th>\n",
       "      <td>-73.912372</td>\n",
       "      <td>40.769097</td>\n",
       "      <td>-73.763295</td>\n",
       "      <td>40.761210</td>\n",
       "      <td>1</td>\n",
       "      <td>3</td>\n",
       "      <td>4</td>\n",
       "      <td>6</td>\n",
       "      <td>12</td>\n",
       "      <td>2011</td>\n",
       "    </tr>\n",
       "  </tbody>\n",
       "</table>\n",
       "</div>"
      ],
      "text/plain": [
       "        pickup_longitude  pickup_latitude  dropoff_longitude  \\\n",
       "131647        -73.997383        40.729007         -73.988172   \n",
       "60720         -73.985420        40.723583         -73.973198   \n",
       "52670         -73.969533        40.760567         -73.977077   \n",
       "69493         -73.973292        40.784818         -73.959017   \n",
       "6514          -73.912372        40.769097         -73.763295   \n",
       "\n",
       "        dropoff_latitude  passenger_count  day  hour  weekday  month  year  \n",
       "131647         40.737558                1    6     9        2     10  2009  \n",
       "60720          40.762245                1   28     5        4      5  2015  \n",
       "52670          40.747083                5    8    14        4      3  2012  \n",
       "69493          40.783357                1   19     8        6      5  2012  \n",
       "6514           40.761210                1    3     4        6     12  2011  "
      ]
     },
     "execution_count": 40,
     "metadata": {},
     "output_type": "execute_result"
    }
   ],
   "source": [
    "x_train.head()"
   ]
  },
  {
   "cell_type": "code",
   "execution_count": 41,
   "metadata": {
    "_uuid": "e531761146442f01a63753d1be1c654bbe548096"
   },
   "outputs": [
    {
     "data": {
      "text/html": [
       "<div>\n",
       "<style scoped>\n",
       "    .dataframe tbody tr th:only-of-type {\n",
       "        vertical-align: middle;\n",
       "    }\n",
       "\n",
       "    .dataframe tbody tr th {\n",
       "        vertical-align: top;\n",
       "    }\n",
       "\n",
       "    .dataframe thead th {\n",
       "        text-align: right;\n",
       "    }\n",
       "</style>\n",
       "<table border=\"1\" class=\"dataframe\">\n",
       "  <thead>\n",
       "    <tr style=\"text-align: right;\">\n",
       "      <th></th>\n",
       "      <th>pickup_longitude</th>\n",
       "      <th>pickup_latitude</th>\n",
       "      <th>dropoff_longitude</th>\n",
       "      <th>dropoff_latitude</th>\n",
       "      <th>passenger_count</th>\n",
       "      <th>day</th>\n",
       "      <th>hour</th>\n",
       "      <th>weekday</th>\n",
       "      <th>month</th>\n",
       "      <th>year</th>\n",
       "    </tr>\n",
       "  </thead>\n",
       "  <tbody>\n",
       "    <tr>\n",
       "      <th>44350</th>\n",
       "      <td>-73.985633</td>\n",
       "      <td>40.747107</td>\n",
       "      <td>-73.985512</td>\n",
       "      <td>40.732589</td>\n",
       "      <td>4</td>\n",
       "      <td>21</td>\n",
       "      <td>0</td>\n",
       "      <td>5</td>\n",
       "      <td>2</td>\n",
       "      <td>2014</td>\n",
       "    </tr>\n",
       "    <tr>\n",
       "      <th>142254</th>\n",
       "      <td>-73.989513</td>\n",
       "      <td>40.690306</td>\n",
       "      <td>-73.923144</td>\n",
       "      <td>40.694356</td>\n",
       "      <td>1</td>\n",
       "      <td>27</td>\n",
       "      <td>11</td>\n",
       "      <td>6</td>\n",
       "      <td>8</td>\n",
       "      <td>2011</td>\n",
       "    </tr>\n",
       "    <tr>\n",
       "      <th>139212</th>\n",
       "      <td>-73.968597</td>\n",
       "      <td>40.762743</td>\n",
       "      <td>-73.976513</td>\n",
       "      <td>40.764305</td>\n",
       "      <td>1</td>\n",
       "      <td>5</td>\n",
       "      <td>11</td>\n",
       "      <td>4</td>\n",
       "      <td>5</td>\n",
       "      <td>2011</td>\n",
       "    </tr>\n",
       "    <tr>\n",
       "      <th>33672</th>\n",
       "      <td>-73.978027</td>\n",
       "      <td>40.751825</td>\n",
       "      <td>-73.979072</td>\n",
       "      <td>40.740152</td>\n",
       "      <td>1</td>\n",
       "      <td>19</td>\n",
       "      <td>17</td>\n",
       "      <td>4</td>\n",
       "      <td>9</td>\n",
       "      <td>2013</td>\n",
       "    </tr>\n",
       "    <tr>\n",
       "      <th>70465</th>\n",
       "      <td>-73.964485</td>\n",
       "      <td>40.764740</td>\n",
       "      <td>-73.959482</td>\n",
       "      <td>40.773370</td>\n",
       "      <td>2</td>\n",
       "      <td>22</td>\n",
       "      <td>12</td>\n",
       "      <td>5</td>\n",
       "      <td>7</td>\n",
       "      <td>2011</td>\n",
       "    </tr>\n",
       "  </tbody>\n",
       "</table>\n",
       "</div>"
      ],
      "text/plain": [
       "        pickup_longitude  pickup_latitude  dropoff_longitude  \\\n",
       "44350         -73.985633        40.747107         -73.985512   \n",
       "142254        -73.989513        40.690306         -73.923144   \n",
       "139212        -73.968597        40.762743         -73.976513   \n",
       "33672         -73.978027        40.751825         -73.979072   \n",
       "70465         -73.964485        40.764740         -73.959482   \n",
       "\n",
       "        dropoff_latitude  passenger_count  day  hour  weekday  month  year  \n",
       "44350          40.732589                4   21     0        5      2  2014  \n",
       "142254         40.694356                1   27    11        6      8  2011  \n",
       "139212         40.764305                1    5    11        4      5  2011  \n",
       "33672          40.740152                1   19    17        4      9  2013  \n",
       "70465          40.773370                2   22    12        5      7  2011  "
      ]
     },
     "execution_count": 41,
     "metadata": {},
     "output_type": "execute_result"
    }
   ],
   "source": [
    "x_test.head()"
   ]
  },
  {
   "cell_type": "code",
   "execution_count": 42,
   "metadata": {
    "_uuid": "238f69097d717af50283c3a3ea0517011de90254"
   },
   "outputs": [
    {
     "data": {
      "text/plain": [
       "(156604, 10)"
      ]
     },
     "execution_count": 42,
     "metadata": {},
     "output_type": "execute_result"
    }
   ],
   "source": [
    "x_train.shape"
   ]
  },
  {
   "cell_type": "code",
   "execution_count": 43,
   "metadata": {
    "_uuid": "9af5c48d669ff0f1060f8d23233751e90540c876"
   },
   "outputs": [
    {
     "data": {
      "text/plain": [
       "(39151, 10)"
      ]
     },
     "execution_count": 43,
     "metadata": {},
     "output_type": "execute_result"
    }
   ],
   "source": [
    "x_test.shape"
   ]
  },
  {
   "cell_type": "code",
   "execution_count": 44,
   "metadata": {
    "_uuid": "157368ddd5b3a894b1af95bfe310094afab6166b"
   },
   "outputs": [],
   "source": [
    "#Lets run the model.\n",
    "#As we have to build regression model, lets start with linear regression model"
   ]
  },
  {
   "cell_type": "code",
   "execution_count": 45,
   "metadata": {
    "_uuid": "4f5826932f167d8954ace3913dc4959536ea184b"
   },
   "outputs": [],
   "source": [
    "from sklearn.linear_model import LinearRegression"
   ]
  },
  {
   "cell_type": "code",
   "execution_count": 46,
   "metadata": {
    "_uuid": "85070ea2669f478cab610f201dd7fe49e9c4be20"
   },
   "outputs": [
    {
     "data": {
      "text/plain": [
       "LinearRegression(copy_X=True, fit_intercept=True, n_jobs=1, normalize=False)"
      ]
     },
     "execution_count": 46,
     "metadata": {},
     "output_type": "execute_result"
    }
   ],
   "source": [
    "lrmodel=LinearRegression()\n",
    "lrmodel.fit(x_train, y_train)"
   ]
  },
  {
   "cell_type": "code",
   "execution_count": 47,
   "metadata": {
    "_uuid": "f10f2d318fb94c3c7f785dee66dc2a3d4b796aee"
   },
   "outputs": [],
   "source": [
    "predictedvalues = lrmodel.predict(x_test)"
   ]
  },
  {
   "cell_type": "code",
   "execution_count": 48,
   "metadata": {
    "_uuid": "46cc11d50be68be013a5b53fba0825ff1bee0d0e"
   },
   "outputs": [
    {
     "name": "stdout",
     "output_type": "stream",
     "text": [
      "RMSE value for Linear regression is 8.16052454180782\n"
     ]
    }
   ],
   "source": [
    "#lets calculate rmse for linear Regression model\n",
    "from sklearn.metrics import mean_squared_error\n",
    "lrmodelrmse = np.sqrt(mean_squared_error(predictedvalues, y_test))\n",
    "print(\"RMSE value for Linear regression is\", lrmodelrmse)"
   ]
  },
  {
   "cell_type": "code",
   "execution_count": 49,
   "metadata": {
    "_uuid": "1ce0c568428cae8029ad4b4126e86c7ab03e50ad"
   },
   "outputs": [],
   "source": [
    "#Lets see with Random Forest and calculate its rmse\n",
    "from sklearn.ensemble import RandomForestRegressor\n",
    "rfrmodel = RandomForestRegressor(n_estimators=100, random_state=101)"
   ]
  },
  {
   "cell_type": "code",
   "execution_count": 50,
   "metadata": {
    "_uuid": "21680976932f6cf417aaae4976f6799980017f11"
   },
   "outputs": [],
   "source": [
    "rfrmodel.fit(x_train,y_train)\n",
    "rfrmodel_pred= rfrmodel.predict(x_test)"
   ]
  },
  {
   "cell_type": "code",
   "execution_count": 51,
   "metadata": {
    "_uuid": "f8eb0b9eeec4da76034a7470b39ab2c213d30c9a"
   },
   "outputs": [
    {
     "name": "stdout",
     "output_type": "stream",
     "text": [
      "RMSE value for Random forest regression is  4.051887834444169\n"
     ]
    }
   ],
   "source": [
    "rfrmodel_rmse=np.sqrt(mean_squared_error(rfrmodel_pred, y_test))\n",
    "print(\"RMSE value for Random forest regression is \",rfrmodel_rmse)"
   ]
  },
  {
   "cell_type": "code",
   "execution_count": 52,
   "metadata": {
    "_uuid": "ddb9f75ec150e75e63c991f189e903b54defb476"
   },
   "outputs": [],
   "source": [
    "#RandomForest Regressor is giving good value, so we can use it as final model"
   ]
  }
 ],
 "metadata": {
  "kernelspec": {
   "display_name": "Python 3",
   "language": "python",
   "name": "python3"
  },
  "language_info": {
   "codemirror_mode": {
    "name": "ipython",
    "version": 3
   },
   "file_extension": ".py",
   "mimetype": "text/x-python",
   "name": "python",
   "nbconvert_exporter": "python",
   "pygments_lexer": "ipython3",
   "version": "3.7.1"
  }
 },
 "nbformat": 4,
 "nbformat_minor": 1
}
